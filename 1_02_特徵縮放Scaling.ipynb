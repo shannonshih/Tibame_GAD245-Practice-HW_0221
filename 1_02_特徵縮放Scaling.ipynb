{
  "cells": [
    {
      "cell_type": "markdown",
      "metadata": {
        "id": "view-in-github",
        "colab_type": "text"
      },
      "source": [
        "<a href=\"https://colab.research.google.com/github/shannonshih/Tibame_GAD245-Practice-HW_0221/blob/main/1_02_%E7%89%B9%E5%BE%B5%E7%B8%AE%E6%94%BEScaling.ipynb\" target=\"_parent\"><img src=\"https://colab.research.google.com/assets/colab-badge.svg\" alt=\"Open In Colab\"/></a>"
      ]
    },
    {
      "cell_type": "markdown",
      "id": "26e61b27-e9af-4746-b708-b4cf70acf377",
      "metadata": {
        "id": "26e61b27-e9af-4746-b708-b4cf70acf377"
      },
      "source": [
        "# 特徵縮放Scaling\n",
        "\n",
        "特徵縮放是將不同範圍或單位的數據轉換為統一範圍的過程。這個步驟對許多機器學習模型至關重要，因為它有助於提高模型的效能和穩定性。以下是需要進行縮放的幾個主要原因：\n",
        "\n",
        "## 1. 不同特徵的範圍和單位差異\n",
        "當不同特徵的範圍差異很大時，模型可能會偏向於範圍較大的特徵，從而影響預測結果的準確性。\n",
        "\n",
        "例如：\n",
        "- 年齡：範圍 [20, 70]（單位：年）\n",
        "- 收入：範圍 [30000, 100000]（單位：美元）\n",
        "\n",
        "如果不進行縮放，模型可能會過度關注收入這個特徵，而忽略年齡這個特徵，因為收入的範圍比年齡大很多。\n",
        "\n",
        "## 2. 基於距離的算法（如 KNN、SVM 等）\n",
        "許多基於距離的算法（例如 K最近鄰（KNN）、支持向量機（SVM）和 K 均值聚類）依賴數據點之間的距離來進行計算。如果特徵的尺度差異太大，距離計算會受到範圍較大的特徵影響，導致最終的預測結果不準確。\n",
        "\n",
        "例如，在 KNN 中，計算距離時，每個特徵的範圍對距離計算貢獻不同。若一個特徵範圍很大，將主導距離的計算，從而影響預測結果。\n",
        "\n",
        "## 3. 加速收斂速度（在梯度下降算法中）\n",
        "在基於梯度下降的模型（如線性回歸、邏輯回歸、神經網絡等）中，特徵縮放有助於加速優化過程。如果數據的尺度差異太大，梯度下降的更新步長可能會不穩定，導致收斂過慢或陷入局部最小值。\n",
        "\n",
        "## 4. 正則化（Regularization）\n",
        "許多模型（例如 Lasso 和 Ridge 回歸）使用正則化來避免過擬合。正則化項會根據特徵的值進行懲罰，這樣尺度較大的變量將對正則化項產生更大的影響，從而影響模型的表現。通過縮放特徵，正則化的效果會均勻分布，避免某些特徵過度懲罰。\n",
        "\n",
        "## 5. 提高數據的穩定性和一致性\n",
        "如果數據本身存在較大的尺度差異（例如某些特徵的數值範圍非常大，某些則非常小），不進行縮放會導致模型無法有效學習，進而造成不穩定的預測結果。特徵縮放能夠將所有特徵放在相同的範圍內，這有助於提高模型的穩定性。\n",
        "\n",
        "## 6. 減少異常值的影響\n",
        "雖然縮放不能完全消除異常值的影響，但它能夠減少異常值對模型的影響。例如，使用 `RobustScaler` 這類的縮放方法時，可以減少異常值的影響，讓模型在面對異常數據時更加穩定。\n",
        "\n",
        "---\n",
        "\n",
        "## 常見的特徵縮放方法：\n",
        "\n",
        "1. **標準化（Standardization）**：將數據轉換為均值為 0，標準差為 1 的分佈。\n",
        "   - 使用 `StandardScaler`，適用於數據大致符合正態分佈的情況。\n",
        "   \n",
        "2. **最小-最大縮放（Min-Max Scaling）**：將數據縮放到 [0, 1] 或其他指定的範圍內。\n",
        "   - 使用 `MinMaxScaler`，適用於需要將數據縮放到某個具體範圍的情況。\n",
        "   \n",
        "3. **最大絕對值縮放（MaxAbs Scaling）**：將數據縮放到 [−1, 1] 範圍內，適用於已經是稀疏矩陣的數據。\n",
        "   - 使用 `MaxAbsScaler`，適用於數據範圍已經在 [-1, 1] 的情況。\n",
        "\n",
        "4. **穩健縮放（Robust Scaling）**：使用數據的中位數和四分位距（IQR）進行縮放，對異常值不敏感。\n",
        "   - 使用 `RobustScaler`，適用於數據中包含異常值的情況。\n",
        "\n",
        "---\n",
        "\n",
        "## 總結\n",
        "特徵縮放有助於提高許多機器學習模型的性能，尤其是基於距離的算法和基於梯度的優化方法。通過將數據縮放到統一範圍，模型可以更加穩定並且有效地進行學習。\n"
      ]
    },
    {
      "cell_type": "code",
      "source": [
        "from google.colab import drive\n",
        "drive.mount('/content/drive')"
      ],
      "metadata": {
        "colab": {
          "base_uri": "https://localhost:8080/"
        },
        "id": "e024dEOJE_fD",
        "outputId": "776e7bde-77b6-46be-f835-b8c292b4f087"
      },
      "id": "e024dEOJE_fD",
      "execution_count": null,
      "outputs": [
        {
          "output_type": "stream",
          "name": "stdout",
          "text": [
            "Mounted at /content/drive\n"
          ]
        }
      ]
    },
    {
      "cell_type": "code",
      "execution_count": null,
      "id": "bd931ac3-f12c-4b93-8b4c-09c703669431",
      "metadata": {
        "id": "bd931ac3-f12c-4b93-8b4c-09c703669431"
      },
      "outputs": [],
      "source": [
        "import numpy as np\n",
        "import pandas as pd\n",
        "import matplotlib.pyplot as plt\n",
        "import seaborn as sns"
      ]
    },
    {
      "cell_type": "code",
      "execution_count": null,
      "id": "22636c93-ea7f-4095-bfbb-78b67e61b866",
      "metadata": {
        "colab": {
          "base_uri": "https://localhost:8080/",
          "height": 342
        },
        "id": "22636c93-ea7f-4095-bfbb-78b67e61b866",
        "outputId": "a5760de1-b2c4-4629-d662-6a703a9ff7e0"
      },
      "outputs": [
        {
          "output_type": "execute_result",
          "data": {
            "text/plain": [
              "   symboling  Normalized-losses         make Fuel-type aspiration  \\\n",
              "0          3                NaN  alfa-romero       gas        std   \n",
              "1          3                NaN  alfa-romero       gas        std   \n",
              "2          1                NaN  alfa-romero       gas        std   \n",
              "3          2              164.0         audi       gas        std   \n",
              "4          2              164.0         audi       gas        std   \n",
              "\n",
              "  Num-of-doors   Body-style Drive-wheels Engine-location  Wheel-base  ...  \\\n",
              "0          two  convertible          rwd           front        88.6  ...   \n",
              "1          two  convertible          rwd           front        88.6  ...   \n",
              "2          two    hatchback          rwd           front        94.5  ...   \n",
              "3         four        sedan          fwd           front        99.8  ...   \n",
              "4         four        sedan          4wd           front        99.4  ...   \n",
              "\n",
              "   Engine-size  Fuel-system  bore  stroke Compression-ratio horsepower  \\\n",
              "0          130         mpfi  3.47    2.68               9.0      111.0   \n",
              "1          130         mpfi  3.47    2.68               9.0      111.0   \n",
              "2          152         mpfi  2.68    3.47               9.0      154.0   \n",
              "3          109         mpfi  3.19    3.40              10.0      102.0   \n",
              "4          136         mpfi  3.19    3.40               8.0      115.0   \n",
              "\n",
              "   Peak-rpm City-mpg  Highway-mpg    price  \n",
              "0    5000.0       21           27  13495.0  \n",
              "1    5000.0       21           27  16500.0  \n",
              "2    5000.0       19           26  16500.0  \n",
              "3    5500.0       24           30  13950.0  \n",
              "4    5500.0       18           22  17450.0  \n",
              "\n",
              "[5 rows x 26 columns]"
            ],
            "text/html": [
              "\n",
              "  <div id=\"df-151d4abc-a351-49f0-9b01-ece628defd21\" class=\"colab-df-container\">\n",
              "    <div>\n",
              "<style scoped>\n",
              "    .dataframe tbody tr th:only-of-type {\n",
              "        vertical-align: middle;\n",
              "    }\n",
              "\n",
              "    .dataframe tbody tr th {\n",
              "        vertical-align: top;\n",
              "    }\n",
              "\n",
              "    .dataframe thead th {\n",
              "        text-align: right;\n",
              "    }\n",
              "</style>\n",
              "<table border=\"1\" class=\"dataframe\">\n",
              "  <thead>\n",
              "    <tr style=\"text-align: right;\">\n",
              "      <th></th>\n",
              "      <th>symboling</th>\n",
              "      <th>Normalized-losses</th>\n",
              "      <th>make</th>\n",
              "      <th>Fuel-type</th>\n",
              "      <th>aspiration</th>\n",
              "      <th>Num-of-doors</th>\n",
              "      <th>Body-style</th>\n",
              "      <th>Drive-wheels</th>\n",
              "      <th>Engine-location</th>\n",
              "      <th>Wheel-base</th>\n",
              "      <th>...</th>\n",
              "      <th>Engine-size</th>\n",
              "      <th>Fuel-system</th>\n",
              "      <th>bore</th>\n",
              "      <th>stroke</th>\n",
              "      <th>Compression-ratio</th>\n",
              "      <th>horsepower</th>\n",
              "      <th>Peak-rpm</th>\n",
              "      <th>City-mpg</th>\n",
              "      <th>Highway-mpg</th>\n",
              "      <th>price</th>\n",
              "    </tr>\n",
              "  </thead>\n",
              "  <tbody>\n",
              "    <tr>\n",
              "      <th>0</th>\n",
              "      <td>3</td>\n",
              "      <td>NaN</td>\n",
              "      <td>alfa-romero</td>\n",
              "      <td>gas</td>\n",
              "      <td>std</td>\n",
              "      <td>two</td>\n",
              "      <td>convertible</td>\n",
              "      <td>rwd</td>\n",
              "      <td>front</td>\n",
              "      <td>88.6</td>\n",
              "      <td>...</td>\n",
              "      <td>130</td>\n",
              "      <td>mpfi</td>\n",
              "      <td>3.47</td>\n",
              "      <td>2.68</td>\n",
              "      <td>9.0</td>\n",
              "      <td>111.0</td>\n",
              "      <td>5000.0</td>\n",
              "      <td>21</td>\n",
              "      <td>27</td>\n",
              "      <td>13495.0</td>\n",
              "    </tr>\n",
              "    <tr>\n",
              "      <th>1</th>\n",
              "      <td>3</td>\n",
              "      <td>NaN</td>\n",
              "      <td>alfa-romero</td>\n",
              "      <td>gas</td>\n",
              "      <td>std</td>\n",
              "      <td>two</td>\n",
              "      <td>convertible</td>\n",
              "      <td>rwd</td>\n",
              "      <td>front</td>\n",
              "      <td>88.6</td>\n",
              "      <td>...</td>\n",
              "      <td>130</td>\n",
              "      <td>mpfi</td>\n",
              "      <td>3.47</td>\n",
              "      <td>2.68</td>\n",
              "      <td>9.0</td>\n",
              "      <td>111.0</td>\n",
              "      <td>5000.0</td>\n",
              "      <td>21</td>\n",
              "      <td>27</td>\n",
              "      <td>16500.0</td>\n",
              "    </tr>\n",
              "    <tr>\n",
              "      <th>2</th>\n",
              "      <td>1</td>\n",
              "      <td>NaN</td>\n",
              "      <td>alfa-romero</td>\n",
              "      <td>gas</td>\n",
              "      <td>std</td>\n",
              "      <td>two</td>\n",
              "      <td>hatchback</td>\n",
              "      <td>rwd</td>\n",
              "      <td>front</td>\n",
              "      <td>94.5</td>\n",
              "      <td>...</td>\n",
              "      <td>152</td>\n",
              "      <td>mpfi</td>\n",
              "      <td>2.68</td>\n",
              "      <td>3.47</td>\n",
              "      <td>9.0</td>\n",
              "      <td>154.0</td>\n",
              "      <td>5000.0</td>\n",
              "      <td>19</td>\n",
              "      <td>26</td>\n",
              "      <td>16500.0</td>\n",
              "    </tr>\n",
              "    <tr>\n",
              "      <th>3</th>\n",
              "      <td>2</td>\n",
              "      <td>164.0</td>\n",
              "      <td>audi</td>\n",
              "      <td>gas</td>\n",
              "      <td>std</td>\n",
              "      <td>four</td>\n",
              "      <td>sedan</td>\n",
              "      <td>fwd</td>\n",
              "      <td>front</td>\n",
              "      <td>99.8</td>\n",
              "      <td>...</td>\n",
              "      <td>109</td>\n",
              "      <td>mpfi</td>\n",
              "      <td>3.19</td>\n",
              "      <td>3.40</td>\n",
              "      <td>10.0</td>\n",
              "      <td>102.0</td>\n",
              "      <td>5500.0</td>\n",
              "      <td>24</td>\n",
              "      <td>30</td>\n",
              "      <td>13950.0</td>\n",
              "    </tr>\n",
              "    <tr>\n",
              "      <th>4</th>\n",
              "      <td>2</td>\n",
              "      <td>164.0</td>\n",
              "      <td>audi</td>\n",
              "      <td>gas</td>\n",
              "      <td>std</td>\n",
              "      <td>four</td>\n",
              "      <td>sedan</td>\n",
              "      <td>4wd</td>\n",
              "      <td>front</td>\n",
              "      <td>99.4</td>\n",
              "      <td>...</td>\n",
              "      <td>136</td>\n",
              "      <td>mpfi</td>\n",
              "      <td>3.19</td>\n",
              "      <td>3.40</td>\n",
              "      <td>8.0</td>\n",
              "      <td>115.0</td>\n",
              "      <td>5500.0</td>\n",
              "      <td>18</td>\n",
              "      <td>22</td>\n",
              "      <td>17450.0</td>\n",
              "    </tr>\n",
              "  </tbody>\n",
              "</table>\n",
              "<p>5 rows × 26 columns</p>\n",
              "</div>\n",
              "    <div class=\"colab-df-buttons\">\n",
              "\n",
              "  <div class=\"colab-df-container\">\n",
              "    <button class=\"colab-df-convert\" onclick=\"convertToInteractive('df-151d4abc-a351-49f0-9b01-ece628defd21')\"\n",
              "            title=\"Convert this dataframe to an interactive table.\"\n",
              "            style=\"display:none;\">\n",
              "\n",
              "  <svg xmlns=\"http://www.w3.org/2000/svg\" height=\"24px\" viewBox=\"0 -960 960 960\">\n",
              "    <path d=\"M120-120v-720h720v720H120Zm60-500h600v-160H180v160Zm220 220h160v-160H400v160Zm0 220h160v-160H400v160ZM180-400h160v-160H180v160Zm440 0h160v-160H620v160ZM180-180h160v-160H180v160Zm440 0h160v-160H620v160Z\"/>\n",
              "  </svg>\n",
              "    </button>\n",
              "\n",
              "  <style>\n",
              "    .colab-df-container {\n",
              "      display:flex;\n",
              "      gap: 12px;\n",
              "    }\n",
              "\n",
              "    .colab-df-convert {\n",
              "      background-color: #E8F0FE;\n",
              "      border: none;\n",
              "      border-radius: 50%;\n",
              "      cursor: pointer;\n",
              "      display: none;\n",
              "      fill: #1967D2;\n",
              "      height: 32px;\n",
              "      padding: 0 0 0 0;\n",
              "      width: 32px;\n",
              "    }\n",
              "\n",
              "    .colab-df-convert:hover {\n",
              "      background-color: #E2EBFA;\n",
              "      box-shadow: 0px 1px 2px rgba(60, 64, 67, 0.3), 0px 1px 3px 1px rgba(60, 64, 67, 0.15);\n",
              "      fill: #174EA6;\n",
              "    }\n",
              "\n",
              "    .colab-df-buttons div {\n",
              "      margin-bottom: 4px;\n",
              "    }\n",
              "\n",
              "    [theme=dark] .colab-df-convert {\n",
              "      background-color: #3B4455;\n",
              "      fill: #D2E3FC;\n",
              "    }\n",
              "\n",
              "    [theme=dark] .colab-df-convert:hover {\n",
              "      background-color: #434B5C;\n",
              "      box-shadow: 0px 1px 3px 1px rgba(0, 0, 0, 0.15);\n",
              "      filter: drop-shadow(0px 1px 2px rgba(0, 0, 0, 0.3));\n",
              "      fill: #FFFFFF;\n",
              "    }\n",
              "  </style>\n",
              "\n",
              "    <script>\n",
              "      const buttonEl =\n",
              "        document.querySelector('#df-151d4abc-a351-49f0-9b01-ece628defd21 button.colab-df-convert');\n",
              "      buttonEl.style.display =\n",
              "        google.colab.kernel.accessAllowed ? 'block' : 'none';\n",
              "\n",
              "      async function convertToInteractive(key) {\n",
              "        const element = document.querySelector('#df-151d4abc-a351-49f0-9b01-ece628defd21');\n",
              "        const dataTable =\n",
              "          await google.colab.kernel.invokeFunction('convertToInteractive',\n",
              "                                                    [key], {});\n",
              "        if (!dataTable) return;\n",
              "\n",
              "        const docLinkHtml = 'Like what you see? Visit the ' +\n",
              "          '<a target=\"_blank\" href=https://colab.research.google.com/notebooks/data_table.ipynb>data table notebook</a>'\n",
              "          + ' to learn more about interactive tables.';\n",
              "        element.innerHTML = '';\n",
              "        dataTable['output_type'] = 'display_data';\n",
              "        await google.colab.output.renderOutput(dataTable, element);\n",
              "        const docLink = document.createElement('div');\n",
              "        docLink.innerHTML = docLinkHtml;\n",
              "        element.appendChild(docLink);\n",
              "      }\n",
              "    </script>\n",
              "  </div>\n",
              "\n",
              "\n",
              "<div id=\"df-bcce2ad8-9626-4419-9b69-6b6810c6035e\">\n",
              "  <button class=\"colab-df-quickchart\" onclick=\"quickchart('df-bcce2ad8-9626-4419-9b69-6b6810c6035e')\"\n",
              "            title=\"Suggest charts\"\n",
              "            style=\"display:none;\">\n",
              "\n",
              "<svg xmlns=\"http://www.w3.org/2000/svg\" height=\"24px\"viewBox=\"0 0 24 24\"\n",
              "     width=\"24px\">\n",
              "    <g>\n",
              "        <path d=\"M19 3H5c-1.1 0-2 .9-2 2v14c0 1.1.9 2 2 2h14c1.1 0 2-.9 2-2V5c0-1.1-.9-2-2-2zM9 17H7v-7h2v7zm4 0h-2V7h2v10zm4 0h-2v-4h2v4z\"/>\n",
              "    </g>\n",
              "</svg>\n",
              "  </button>\n",
              "\n",
              "<style>\n",
              "  .colab-df-quickchart {\n",
              "      --bg-color: #E8F0FE;\n",
              "      --fill-color: #1967D2;\n",
              "      --hover-bg-color: #E2EBFA;\n",
              "      --hover-fill-color: #174EA6;\n",
              "      --disabled-fill-color: #AAA;\n",
              "      --disabled-bg-color: #DDD;\n",
              "  }\n",
              "\n",
              "  [theme=dark] .colab-df-quickchart {\n",
              "      --bg-color: #3B4455;\n",
              "      --fill-color: #D2E3FC;\n",
              "      --hover-bg-color: #434B5C;\n",
              "      --hover-fill-color: #FFFFFF;\n",
              "      --disabled-bg-color: #3B4455;\n",
              "      --disabled-fill-color: #666;\n",
              "  }\n",
              "\n",
              "  .colab-df-quickchart {\n",
              "    background-color: var(--bg-color);\n",
              "    border: none;\n",
              "    border-radius: 50%;\n",
              "    cursor: pointer;\n",
              "    display: none;\n",
              "    fill: var(--fill-color);\n",
              "    height: 32px;\n",
              "    padding: 0;\n",
              "    width: 32px;\n",
              "  }\n",
              "\n",
              "  .colab-df-quickchart:hover {\n",
              "    background-color: var(--hover-bg-color);\n",
              "    box-shadow: 0 1px 2px rgba(60, 64, 67, 0.3), 0 1px 3px 1px rgba(60, 64, 67, 0.15);\n",
              "    fill: var(--button-hover-fill-color);\n",
              "  }\n",
              "\n",
              "  .colab-df-quickchart-complete:disabled,\n",
              "  .colab-df-quickchart-complete:disabled:hover {\n",
              "    background-color: var(--disabled-bg-color);\n",
              "    fill: var(--disabled-fill-color);\n",
              "    box-shadow: none;\n",
              "  }\n",
              "\n",
              "  .colab-df-spinner {\n",
              "    border: 2px solid var(--fill-color);\n",
              "    border-color: transparent;\n",
              "    border-bottom-color: var(--fill-color);\n",
              "    animation:\n",
              "      spin 1s steps(1) infinite;\n",
              "  }\n",
              "\n",
              "  @keyframes spin {\n",
              "    0% {\n",
              "      border-color: transparent;\n",
              "      border-bottom-color: var(--fill-color);\n",
              "      border-left-color: var(--fill-color);\n",
              "    }\n",
              "    20% {\n",
              "      border-color: transparent;\n",
              "      border-left-color: var(--fill-color);\n",
              "      border-top-color: var(--fill-color);\n",
              "    }\n",
              "    30% {\n",
              "      border-color: transparent;\n",
              "      border-left-color: var(--fill-color);\n",
              "      border-top-color: var(--fill-color);\n",
              "      border-right-color: var(--fill-color);\n",
              "    }\n",
              "    40% {\n",
              "      border-color: transparent;\n",
              "      border-right-color: var(--fill-color);\n",
              "      border-top-color: var(--fill-color);\n",
              "    }\n",
              "    60% {\n",
              "      border-color: transparent;\n",
              "      border-right-color: var(--fill-color);\n",
              "    }\n",
              "    80% {\n",
              "      border-color: transparent;\n",
              "      border-right-color: var(--fill-color);\n",
              "      border-bottom-color: var(--fill-color);\n",
              "    }\n",
              "    90% {\n",
              "      border-color: transparent;\n",
              "      border-bottom-color: var(--fill-color);\n",
              "    }\n",
              "  }\n",
              "</style>\n",
              "\n",
              "  <script>\n",
              "    async function quickchart(key) {\n",
              "      const quickchartButtonEl =\n",
              "        document.querySelector('#' + key + ' button');\n",
              "      quickchartButtonEl.disabled = true;  // To prevent multiple clicks.\n",
              "      quickchartButtonEl.classList.add('colab-df-spinner');\n",
              "      try {\n",
              "        const charts = await google.colab.kernel.invokeFunction(\n",
              "            'suggestCharts', [key], {});\n",
              "      } catch (error) {\n",
              "        console.error('Error during call to suggestCharts:', error);\n",
              "      }\n",
              "      quickchartButtonEl.classList.remove('colab-df-spinner');\n",
              "      quickchartButtonEl.classList.add('colab-df-quickchart-complete');\n",
              "    }\n",
              "    (() => {\n",
              "      let quickchartButtonEl =\n",
              "        document.querySelector('#df-bcce2ad8-9626-4419-9b69-6b6810c6035e button');\n",
              "      quickchartButtonEl.style.display =\n",
              "        google.colab.kernel.accessAllowed ? 'block' : 'none';\n",
              "    })();\n",
              "  </script>\n",
              "</div>\n",
              "\n",
              "    </div>\n",
              "  </div>\n"
            ],
            "application/vnd.google.colaboratory.intrinsic+json": {
              "type": "dataframe",
              "variable_name": "data"
            }
          },
          "metadata": {},
          "execution_count": 3
        }
      ],
      "source": [
        "#載入資料\n",
        "data = pd.read_csv(\"/content/drive/MyDrive/AI人才應用/20250109T010859Z-001/2024-12 AI數據應用人才養成班/data/Automobile.csv\")\n",
        "data.head()"
      ]
    },
    {
      "cell_type": "code",
      "execution_count": null,
      "id": "91aba3d5-4254-46e5-8b19-888cf3c07310",
      "metadata": {
        "colab": {
          "base_uri": "https://localhost:8080/"
        },
        "id": "91aba3d5-4254-46e5-8b19-888cf3c07310",
        "outputId": "208e2fc9-7946-4c90-f5a2-9d54c63002f7"
      },
      "outputs": [
        {
          "output_type": "execute_result",
          "data": {
            "text/plain": [
              "Index(['symboling', 'Normalized-losses', 'make', 'Fuel-type', 'aspiration',\n",
              "       'Num-of-doors', 'Body-style', 'Drive-wheels', 'Engine-location',\n",
              "       'Wheel-base', 'length', 'width', 'height', 'Curb-weight', 'Engine-type',\n",
              "       'Num-of-cylinders', 'Engine-size', 'Fuel-system', 'bore', 'stroke',\n",
              "       'Compression-ratio', 'horsepower', 'Peak-rpm', 'City-mpg',\n",
              "       'Highway-mpg', 'price'],\n",
              "      dtype='object')"
            ]
          },
          "metadata": {},
          "execution_count": 4
        }
      ],
      "source": [
        "data.columns"
      ]
    },
    {
      "cell_type": "code",
      "execution_count": null,
      "id": "8bddf7e5-9cbb-48c8-8f7e-1408e4bccf3e",
      "metadata": {
        "colab": {
          "base_uri": "https://localhost:8080/",
          "height": 525
        },
        "id": "8bddf7e5-9cbb-48c8-8f7e-1408e4bccf3e",
        "outputId": "3e36048f-2807-44b5-ec9f-a6dec0d3f852"
      },
      "outputs": [
        {
          "output_type": "execute_result",
          "data": {
            "text/plain": [
              "<seaborn.axisgrid.FacetGrid at 0x7d66dcfd0350>"
            ]
          },
          "metadata": {},
          "execution_count": 5
        },
        {
          "output_type": "display_data",
          "data": {
            "text/plain": [
              "<Figure size 500x500 with 1 Axes>"
            ],
            "image/png": "[encoded data removed]"
          },
          "metadata": {}
        }
      ],
      "source": [
        "sns.displot(data,x='horsepower')"
      ]
    },
    {
      "cell_type": "code",
      "execution_count": null,
      "id": "61885594-71d0-4b9f-9bdc-560d75746e70",
      "metadata": {
        "id": "61885594-71d0-4b9f-9bdc-560d75746e70"
      },
      "outputs": [],
      "source": [
        "x = data['horsepower']"
      ]
    },
    {
      "cell_type": "markdown",
      "id": "098c1e1f-22a4-47fb-bdf6-999d33f551a4",
      "metadata": {
        "id": "098c1e1f-22a4-47fb-bdf6-999d33f551a4"
      },
      "source": [
        "# MinMaxScaler\n",
        "* 將數據縮放到指定的最小值和最大值之間，通常是 [0, 1]。\n",
        "* 適用於要求特徵在固定範圍內的算法，例如神經網絡。"
      ]
    },
    {
      "cell_type": "code",
      "execution_count": null,
      "id": "60773019-b854-45e0-869f-2504dd11d09d",
      "metadata": {
        "colab": {
          "base_uri": "https://localhost:8080/",
          "height": 525
        },
        "id": "60773019-b854-45e0-869f-2504dd11d09d",
        "outputId": "a814e3d5-4e35-4b50-fbf8-5dde2ab66b93"
      },
      "outputs": [
        {
          "output_type": "execute_result",
          "data": {
            "text/plain": [
              "<seaborn.axisgrid.FacetGrid at 0x7d66dd0dc1d0>"
            ]
          },
          "metadata": {},
          "execution_count": 7
        },
        {
          "output_type": "display_data",
          "data": {
            "text/plain": [
              "<Figure size 500x500 with 1 Axes>"
            ],
            "image/png": "[encoded data removed]"
          },
          "metadata": {}
        }
      ],
      "source": [
        "x_std = (x - x.min()) / (x.max() - x.min())\n",
        "\n",
        "data['horsepower_scale'] = x_std\n",
        "sns.displot(data,x='horsepower_scale')"
      ]
    },
    {
      "cell_type": "code",
      "execution_count": null,
      "id": "6e77866f-5da6-4f61-b298-a08ba41ac46a",
      "metadata": {
        "colab": {
          "base_uri": "https://localhost:8080/",
          "height": 562
        },
        "id": "6e77866f-5da6-4f61-b298-a08ba41ac46a",
        "outputId": "8d43c2ea-7280-4d0a-d5b9-d49525b14abb"
      },
      "outputs": [
        {
          "output_type": "stream",
          "name": "stdout",
          "text": [
            "max=  [288.]\n",
            "min=  [48.]\n"
          ]
        },
        {
          "output_type": "execute_result",
          "data": {
            "text/plain": [
              "<seaborn.axisgrid.FacetGrid at 0x7d66dcf8ae90>"
            ]
          },
          "metadata": {},
          "execution_count": 8
        },
        {
          "output_type": "display_data",
          "data": {
            "text/plain": [
              "<Figure size 500x500 with 1 Axes>"
            ],
            "image/png": "[encoded data removed]"
          },
          "metadata": {}
        }
      ],
      "source": [
        "from sklearn.preprocessing import MinMaxScaler\n",
        "scaler = MinMaxScaler()\n",
        "scaler.fit(x.values.reshape(-1, 1))\n",
        "print('max= ', scaler.data_max_)\n",
        "print('min= ', scaler.data_min_)\n",
        "x_std = scaler.transform(x.values.reshape(-1, 1)).flatten()\n",
        "\n",
        "data['horsepower_scale'] = x_std\n",
        "sns.displot(data,x='horsepower_scale')"
      ]
    },
    {
      "cell_type": "markdown",
      "id": "3ccd1e75-77da-466b-82ce-56e54cf28f3e",
      "metadata": {
        "id": "3ccd1e75-77da-466b-82ce-56e54cf28f3e"
      },
      "source": [
        "# MaxAbsScaler\n",
        "* 將數據按最大絕對值進行縮放，適用於已經是稀疏矩陣或數據值已經在 [-1, 1] 範圍內的情況。\n",
        "* 保持數據的零值不變，且不會改變數據的稀疏性。"
      ]
    },
    {
      "cell_type": "code",
      "execution_count": null,
      "id": "97e7e352-cc4a-4e4c-b9ab-405b3bf2b4d4",
      "metadata": {
        "colab": {
          "base_uri": "https://localhost:8080/",
          "height": 525
        },
        "id": "97e7e352-cc4a-4e4c-b9ab-405b3bf2b4d4",
        "outputId": "1c7f2ec1-da83-4127-e8c6-bf6f4b2dcd9a"
      },
      "outputs": [
        {
          "output_type": "execute_result",
          "data": {
            "text/plain": [
              "<seaborn.axisgrid.FacetGrid at 0x7d66dd010f50>"
            ]
          },
          "metadata": {},
          "execution_count": 9
        },
        {
          "output_type": "display_data",
          "data": {
            "text/plain": [
              "<Figure size 500x500 with 1 Axes>"
            ],
            "image/png": "[encoded data removed]"
          },
          "metadata": {}
        }
      ],
      "source": [
        "x_std = x / x.abs().max()\n",
        "\n",
        "data['horsepower_scale'] = x_std\n",
        "sns.displot(data,x='horsepower_scale')"
      ]
    },
    {
      "cell_type": "code",
      "execution_count": null,
      "id": "3dd8221d-0831-4eea-a5a8-d3e0c3ddeb99",
      "metadata": {
        "colab": {
          "base_uri": "https://localhost:8080/",
          "height": 544
        },
        "id": "3dd8221d-0831-4eea-a5a8-d3e0c3ddeb99",
        "outputId": "01c99486-f5cb-40f3-81db-75b9cefa9007"
      },
      "outputs": [
        {
          "output_type": "stream",
          "name": "stdout",
          "text": [
            "max_abs_=  [288.]\n"
          ]
        },
        {
          "output_type": "execute_result",
          "data": {
            "text/plain": [
              "<seaborn.axisgrid.FacetGrid at 0x7d66da1eda10>"
            ]
          },
          "metadata": {},
          "execution_count": 10
        },
        {
          "output_type": "display_data",
          "data": {
            "text/plain": [
              "<Figure size 500x500 with 1 Axes>"
            ],
            "image/png": "[encoded data removed]"
          },
          "metadata": {}
        }
      ],
      "source": [
        "from sklearn.preprocessing import MaxAbsScaler\n",
        "scaler = MaxAbsScaler()\n",
        "scaler.fit(x.values.reshape(-1, 1))\n",
        "print('max_abs_= ', scaler.max_abs_)\n",
        "x_std = scaler.transform(x.values.reshape(-1, 1)).flatten()\n",
        "\n",
        "data['horsepower_scale'] = x_std\n",
        "sns.displot(data,x='horsepower_scale')"
      ]
    },
    {
      "cell_type": "markdown",
      "id": "d37fa7c3-f21a-4cb2-b38c-45333fbe13d9",
      "metadata": {
        "id": "d37fa7c3-f21a-4cb2-b38c-45333fbe13d9"
      },
      "source": [
        "# StandardScaler\n",
        "* 將數據標準化，使其均值為 0，標準差為 1。\n",
        "* 適用於大多數機器學習模型，尤其是對特徵分佈沒有假設的模型。"
      ]
    },
    {
      "cell_type": "code",
      "execution_count": null,
      "id": "4f0df6a1-1ef1-4408-9daf-4e5f77f65587",
      "metadata": {
        "colab": {
          "base_uri": "https://localhost:8080/",
          "height": 525
        },
        "id": "4f0df6a1-1ef1-4408-9daf-4e5f77f65587",
        "outputId": "1c62ad63-28bc-47e9-bf44-457f916739bd"
      },
      "outputs": [
        {
          "output_type": "execute_result",
          "data": {
            "text/plain": [
              "<seaborn.axisgrid.FacetGrid at 0x7d66da1a4310>"
            ]
          },
          "metadata": {},
          "execution_count": 11
        },
        {
          "output_type": "display_data",
          "data": {
            "text/plain": [
              "<Figure size 500x500 with 1 Axes>"
            ],
            "image/png": "[encoded data removed]"
          },
          "metadata": {}
        }
      ],
      "source": [
        "x_std = (x - x.mean()) / x.std()\n",
        "\n",
        "data['horsepower_scale'] = x_std\n",
        "sns.displot(data,x='horsepower_scale')"
      ]
    },
    {
      "cell_type": "code",
      "execution_count": null,
      "id": "87726c46-9f3c-414e-87b9-a3ff3b6a8492",
      "metadata": {
        "colab": {
          "base_uri": "https://localhost:8080/",
          "height": 525
        },
        "id": "87726c46-9f3c-414e-87b9-a3ff3b6a8492",
        "outputId": "ce35eebd-e34b-4c89-a5ec-97778f1b3cd6"
      },
      "outputs": [
        {
          "output_type": "execute_result",
          "data": {
            "text/plain": [
              "<seaborn.axisgrid.FacetGrid at 0x7d66da032e50>"
            ]
          },
          "metadata": {},
          "execution_count": 12
        },
        {
          "output_type": "display_data",
          "data": {
            "text/plain": [
              "<Figure size 500x500 with 1 Axes>"
            ],
            "image/png": "[encoded data removed]"
          },
          "metadata": {}
        }
      ],
      "source": [
        "from sklearn.preprocessing import StandardScaler\n",
        "scaler = StandardScaler()\n",
        "scaler.fit(x.values.reshape(-1, 1))\n",
        "x_std = scaler.transform(x.values.reshape(-1, 1)).flatten()\n",
        "\n",
        "data['horsepower_scale'] = x_std\n",
        "sns.displot(data,x='horsepower_scale')"
      ]
    },
    {
      "cell_type": "code",
      "execution_count": null,
      "id": "9dfec5e4-b18d-4d6d-bce9-c1cbe0b27e5d",
      "metadata": {
        "colab": {
          "base_uri": "https://localhost:8080/"
        },
        "id": "9dfec5e4-b18d-4d6d-bce9-c1cbe0b27e5d",
        "outputId": "e725326c-829c-4c26-cf6a-4503d2272469"
      },
      "outputs": [
        {
          "output_type": "stream",
          "name": "stdout",
          "text": [
            "標準差 =  1.0024721916589532\n",
            "平均值 =  -1.1594447350765182e-16\n"
          ]
        }
      ],
      "source": [
        "# 驗證結果\n",
        "print('標準差 = ', data['horsepower_scale'].std())\n",
        "print('平均值 = ', data['horsepower_scale'].mean())"
      ]
    },
    {
      "cell_type": "markdown",
      "id": "ff0b80f9-b430-409e-9297-ebb84965ccd9",
      "metadata": {
        "id": "ff0b80f9-b430-409e-9297-ebb84965ccd9"
      },
      "source": [
        "# RobustScaler\n",
        "* 使用數據的中位數和四分位距來進行縮放，比標準化方法更不容易受異常值的影響。\n",
        "* 適用於數據中有異常值的情況。"
      ]
    },
    {
      "cell_type": "code",
      "execution_count": null,
      "id": "5867d121-b59b-474a-a637-9c61f0fc74ed",
      "metadata": {
        "colab": {
          "base_uri": "https://localhost:8080/",
          "height": 525
        },
        "id": "5867d121-b59b-474a-a637-9c61f0fc74ed",
        "outputId": "00503b40-108d-4a39-fe04-3a063ccb1c93"
      },
      "outputs": [
        {
          "output_type": "execute_result",
          "data": {
            "text/plain": [
              "<seaborn.axisgrid.FacetGrid at 0x7d66da04e6d0>"
            ]
          },
          "metadata": {},
          "execution_count": 14
        },
        {
          "output_type": "display_data",
          "data": {
            "text/plain": [
              "<Figure size 500x500 with 1 Axes>"
            ],
            "image/png": "[encoded data removed]"
          },
          "metadata": {}
        }
      ],
      "source": [
        "x_std = (x - x.quantile(0.5)) / (x.quantile(0.75) - x.quantile(0.25))\n",
        "\n",
        "data['horsepower_scale'] = x_std\n",
        "sns.displot(data,x='horsepower_scale')"
      ]
    },
    {
      "cell_type": "code",
      "execution_count": null,
      "id": "56be4e8e-bde6-4e6c-a50c-e99fdeac7847",
      "metadata": {
        "colab": {
          "base_uri": "https://localhost:8080/",
          "height": 525
        },
        "id": "56be4e8e-bde6-4e6c-a50c-e99fdeac7847",
        "outputId": "528f607d-7146-4239-ee21-0fe01d2ae30d"
      },
      "outputs": [
        {
          "output_type": "execute_result",
          "data": {
            "text/plain": [
              "<seaborn.axisgrid.FacetGrid at 0x7d66da1a3850>"
            ]
          },
          "metadata": {},
          "execution_count": 15
        },
        {
          "output_type": "display_data",
          "data": {
            "text/plain": [
              "<Figure size 500x500 with 1 Axes>"
            ],
            "image/png": "[encoded data removed]"
          },
          "metadata": {}
        }
      ],
      "source": [
        "from sklearn.preprocessing import RobustScaler\n",
        "scaler = RobustScaler()\n",
        "scaler.fit(x.values.reshape(-1, 1))\n",
        "x_std = scaler.transform(x.values.reshape(-1, 1)).flatten()\n",
        "\n",
        "data['horsepower_scale'] = x_std\n",
        "sns.displot(data,x='horsepower_scale')"
      ]
    },
    {
      "cell_type": "code",
      "execution_count": null,
      "id": "0487bb3f-1e71-4fd4-8344-8f3dbe30e33e",
      "metadata": {
        "id": "0487bb3f-1e71-4fd4-8344-8f3dbe30e33e"
      },
      "outputs": [],
      "source": []
    }
  ],
  "metadata": {
    "kernelspec": {
      "display_name": "Python 3 (ipykernel)",
      "language": "python",
      "name": "python3"
    },
    "language_info": {
      "codemirror_mode": {
        "name": "ipython",
        "version": 3
      },
      "file_extension": ".py",
      "mimetype": "text/x-python",
      "name": "python",
      "nbconvert_exporter": "python",
      "pygments_lexer": "ipython3",
      "version": "3.12.3"
    },
    "colab": {
      "provenance": [],
      "include_colab_link": true
    }
  },
  "nbformat": 4,
  "nbformat_minor": 5
}