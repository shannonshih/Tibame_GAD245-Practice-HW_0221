{
  "cells": [
    {
      "cell_type": "markdown",
      "metadata": {
        "id": "view-in-github",
        "colab_type": "text"
      },
      "source": [
        "<a href=\"https://colab.research.google.com/github/shannonshih/Tibame_GAD245-Practice-HW_0221/blob/main/3_01_LAB_Automobile.ipynb\" target=\"_parent\"><img src=\"https://colab.research.google.com/assets/colab-badge.svg\" alt=\"Open In Colab\"/></a>"
      ]
    },
    {
      "cell_type": "markdown",
      "id": "79be057b-1df5-4917-82db-411cda5f16f8",
      "metadata": {
        "id": "79be057b-1df5-4917-82db-411cda5f16f8"
      },
      "source": [
        "# 汽車價格預測"
      ]
    },
    {
      "cell_type": "code",
      "execution_count": null,
      "id": "eda0d0cc-964d-4400-8782-13d32dbd70cc",
      "metadata": {
        "id": "eda0d0cc-964d-4400-8782-13d32dbd70cc",
        "outputId": "c96f026b-9a03-4346-d396-e8837fc26bf6"
      },
      "outputs": [
        {
          "data": {
            "text/html": [
              "<div>\n",
              "<style scoped>\n",
              "    .dataframe tbody tr th:only-of-type {\n",
              "        vertical-align: middle;\n",
              "    }\n",
              "\n",
              "    .dataframe tbody tr th {\n",
              "        vertical-align: top;\n",
              "    }\n",
              "\n",
              "    .dataframe thead th {\n",
              "        text-align: right;\n",
              "    }\n",
              "</style>\n",
              "<table border=\"1\" class=\"dataframe\">\n",
              "  <thead>\n",
              "    <tr style=\"text-align: right;\">\n",
              "      <th></th>\n",
              "      <th>symboling</th>\n",
              "      <th>Normalized-losses</th>\n",
              "      <th>make</th>\n",
              "      <th>Fuel-type</th>\n",
              "      <th>aspiration</th>\n",
              "      <th>Num-of-doors</th>\n",
              "      <th>Body-style</th>\n",
              "      <th>Drive-wheels</th>\n",
              "      <th>Engine-location</th>\n",
              "      <th>Wheel-base</th>\n",
              "      <th>...</th>\n",
              "      <th>Engine-size</th>\n",
              "      <th>Fuel-system</th>\n",
              "      <th>bore</th>\n",
              "      <th>stroke</th>\n",
              "      <th>Compression-ratio</th>\n",
              "      <th>horsepower</th>\n",
              "      <th>Peak-rpm</th>\n",
              "      <th>City-mpg</th>\n",
              "      <th>Highway-mpg</th>\n",
              "      <th>price</th>\n",
              "    </tr>\n",
              "  </thead>\n",
              "  <tbody>\n",
              "    <tr>\n",
              "      <th>0</th>\n",
              "      <td>1</td>\n",
              "      <td>NaN</td>\n",
              "      <td>porsche</td>\n",
              "      <td>gas</td>\n",
              "      <td>std</td>\n",
              "      <td>two</td>\n",
              "      <td>hatchback</td>\n",
              "      <td>rwd</td>\n",
              "      <td>front</td>\n",
              "      <td>98.4</td>\n",
              "      <td>...</td>\n",
              "      <td>203</td>\n",
              "      <td>mpfi</td>\n",
              "      <td>3.94</td>\n",
              "      <td>3.11</td>\n",
              "      <td>10.0</td>\n",
              "      <td>288.0</td>\n",
              "      <td>5750.0</td>\n",
              "      <td>17</td>\n",
              "      <td>28</td>\n",
              "      <td>NaN</td>\n",
              "    </tr>\n",
              "    <tr>\n",
              "      <th>1</th>\n",
              "      <td>3</td>\n",
              "      <td>256.0</td>\n",
              "      <td>volkswagen</td>\n",
              "      <td>gas</td>\n",
              "      <td>std</td>\n",
              "      <td>two</td>\n",
              "      <td>hatchback</td>\n",
              "      <td>fwd</td>\n",
              "      <td>front</td>\n",
              "      <td>94.5</td>\n",
              "      <td>...</td>\n",
              "      <td>109</td>\n",
              "      <td>mpfi</td>\n",
              "      <td>3.19</td>\n",
              "      <td>3.40</td>\n",
              "      <td>8.5</td>\n",
              "      <td>90.0</td>\n",
              "      <td>5500.0</td>\n",
              "      <td>24</td>\n",
              "      <td>29</td>\n",
              "      <td>9980.0</td>\n",
              "    </tr>\n",
              "    <tr>\n",
              "      <th>2</th>\n",
              "      <td>2</td>\n",
              "      <td>192.0</td>\n",
              "      <td>bmw</td>\n",
              "      <td>gas</td>\n",
              "      <td>std</td>\n",
              "      <td>two</td>\n",
              "      <td>sedan</td>\n",
              "      <td>rwd</td>\n",
              "      <td>front</td>\n",
              "      <td>101.2</td>\n",
              "      <td>...</td>\n",
              "      <td>108</td>\n",
              "      <td>mpfi</td>\n",
              "      <td>3.50</td>\n",
              "      <td>2.80</td>\n",
              "      <td>8.8</td>\n",
              "      <td>101.0</td>\n",
              "      <td>5800.0</td>\n",
              "      <td>23</td>\n",
              "      <td>29</td>\n",
              "      <td>16430.0</td>\n",
              "    </tr>\n",
              "    <tr>\n",
              "      <th>3</th>\n",
              "      <td>0</td>\n",
              "      <td>110.0</td>\n",
              "      <td>honda</td>\n",
              "      <td>gas</td>\n",
              "      <td>std</td>\n",
              "      <td>four</td>\n",
              "      <td>sedan</td>\n",
              "      <td>fwd</td>\n",
              "      <td>front</td>\n",
              "      <td>96.5</td>\n",
              "      <td>...</td>\n",
              "      <td>92</td>\n",
              "      <td>1bbl</td>\n",
              "      <td>2.91</td>\n",
              "      <td>3.41</td>\n",
              "      <td>9.2</td>\n",
              "      <td>76.0</td>\n",
              "      <td>6000.0</td>\n",
              "      <td>30</td>\n",
              "      <td>34</td>\n",
              "      <td>7295.0</td>\n",
              "    </tr>\n",
              "    <tr>\n",
              "      <th>4</th>\n",
              "      <td>2</td>\n",
              "      <td>137.0</td>\n",
              "      <td>honda</td>\n",
              "      <td>gas</td>\n",
              "      <td>std</td>\n",
              "      <td>two</td>\n",
              "      <td>hatchback</td>\n",
              "      <td>fwd</td>\n",
              "      <td>front</td>\n",
              "      <td>86.6</td>\n",
              "      <td>...</td>\n",
              "      <td>92</td>\n",
              "      <td>1bbl</td>\n",
              "      <td>2.91</td>\n",
              "      <td>3.41</td>\n",
              "      <td>9.2</td>\n",
              "      <td>76.0</td>\n",
              "      <td>6000.0</td>\n",
              "      <td>31</td>\n",
              "      <td>38</td>\n",
              "      <td>6855.0</td>\n",
              "    </tr>\n",
              "  </tbody>\n",
              "</table>\n",
              "<p>5 rows × 26 columns</p>\n",
              "</div>"
            ],
            "text/plain": [
              "   symboling  Normalized-losses        make Fuel-type aspiration Num-of-doors  \\\n",
              "0          1                NaN     porsche       gas        std          two   \n",
              "1          3              256.0  volkswagen       gas        std          two   \n",
              "2          2              192.0         bmw       gas        std          two   \n",
              "3          0              110.0       honda       gas        std         four   \n",
              "4          2              137.0       honda       gas        std          two   \n",
              "\n",
              "  Body-style Drive-wheels Engine-location  Wheel-base  ...  Engine-size  \\\n",
              "0  hatchback          rwd           front        98.4  ...          203   \n",
              "1  hatchback          fwd           front        94.5  ...          109   \n",
              "2      sedan          rwd           front       101.2  ...          108   \n",
              "3      sedan          fwd           front        96.5  ...           92   \n",
              "4  hatchback          fwd           front        86.6  ...           92   \n",
              "\n",
              "   Fuel-system  bore  stroke Compression-ratio horsepower  Peak-rpm City-mpg  \\\n",
              "0         mpfi  3.94    3.11              10.0      288.0    5750.0       17   \n",
              "1         mpfi  3.19    3.40               8.5       90.0    5500.0       24   \n",
              "2         mpfi  3.50    2.80               8.8      101.0    5800.0       23   \n",
              "3         1bbl  2.91    3.41               9.2       76.0    6000.0       30   \n",
              "4         1bbl  2.91    3.41               9.2       76.0    6000.0       31   \n",
              "\n",
              "   Highway-mpg    price  \n",
              "0           28      NaN  \n",
              "1           29   9980.0  \n",
              "2           29  16430.0  \n",
              "3           34   7295.0  \n",
              "4           38   6855.0  \n",
              "\n",
              "[5 rows x 26 columns]"
            ]
          },
          "execution_count": 1,
          "metadata": {},
          "output_type": "execute_result"
        }
      ],
      "source": [
        "#載入訓練用資料\n",
        "import pandas as pd\n",
        "import numpy as np\n",
        "data = pd.read_csv('../data/Automobile_Train.csv')\n",
        "data.head()"
      ]
    },
    {
      "cell_type": "code",
      "execution_count": null,
      "id": "ef3fc8b4-cd1b-4c21-a358-bfc1a35a30b1",
      "metadata": {
        "id": "ef3fc8b4-cd1b-4c21-a358-bfc1a35a30b1",
        "outputId": "ca28e6f8-a8cd-4883-ade5-69afa3c89043"
      },
      "outputs": [
        {
          "data": {
            "text/plain": [
              "Index(['symboling', 'Normalized-losses', 'make', 'Fuel-type', 'aspiration',\n",
              "       'Num-of-doors', 'Body-style', 'Drive-wheels', 'Engine-location',\n",
              "       'Wheel-base', 'length', 'width', 'height', 'Curb-weight', 'Engine-type',\n",
              "       'Num-of-cylinders', 'Engine-size', 'Fuel-system', 'bore', 'stroke',\n",
              "       'Compression-ratio', 'horsepower', 'Peak-rpm', 'City-mpg',\n",
              "       'Highway-mpg', 'price'],\n",
              "      dtype='object')"
            ]
          },
          "execution_count": 2,
          "metadata": {},
          "output_type": "execute_result"
        }
      ],
      "source": [
        "#列出欄位名稱\n",
        "data.columns"
      ]
    },
    {
      "cell_type": "code",
      "execution_count": null,
      "id": "a405a218-5221-44a8-8750-2b3c21504262",
      "metadata": {
        "scrolled": true,
        "id": "a405a218-5221-44a8-8750-2b3c21504262",
        "outputId": "6e9316ba-810f-4462-99cb-a6fe026bb111"
      },
      "outputs": [
        {
          "name": "stdout",
          "output_type": "stream",
          "text": [
            "<class 'pandas.core.frame.DataFrame'>\n",
            "RangeIndex: 150 entries, 0 to 149\n",
            "Data columns (total 26 columns):\n",
            " #   Column             Non-Null Count  Dtype  \n",
            "---  ------             --------------  -----  \n",
            " 0   symboling          150 non-null    int64  \n",
            " 1   Normalized-losses  121 non-null    float64\n",
            " 2   make               150 non-null    object \n",
            " 3   Fuel-type          150 non-null    object \n",
            " 4   aspiration         150 non-null    object \n",
            " 5   Num-of-doors       149 non-null    object \n",
            " 6   Body-style         150 non-null    object \n",
            " 7   Drive-wheels       150 non-null    object \n",
            " 8   Engine-location    150 non-null    object \n",
            " 9   Wheel-base         150 non-null    float64\n",
            " 10  length             150 non-null    float64\n",
            " 11  width              150 non-null    float64\n",
            " 12  height             150 non-null    float64\n",
            " 13  Curb-weight        150 non-null    int64  \n",
            " 14  Engine-type        150 non-null    object \n",
            " 15  Num-of-cylinders   150 non-null    object \n",
            " 16  Engine-size        150 non-null    int64  \n",
            " 17  Fuel-system        150 non-null    object \n",
            " 18  bore               147 non-null    float64\n",
            " 19  stroke             147 non-null    float64\n",
            " 20  Compression-ratio  150 non-null    float64\n",
            " 21  horsepower         149 non-null    float64\n",
            " 22  Peak-rpm           149 non-null    float64\n",
            " 23  City-mpg           150 non-null    int64  \n",
            " 24  Highway-mpg        150 non-null    int64  \n",
            " 25  price              147 non-null    float64\n",
            "dtypes: float64(11), int64(5), object(10)\n",
            "memory usage: 30.6+ KB\n"
          ]
        }
      ],
      "source": [
        "# 查看資料訊息\n",
        "data.info()"
      ]
    },
    {
      "cell_type": "markdown",
      "id": "70a15b7b-3a5d-49d3-a83b-a31e71b60074",
      "metadata": {
        "id": "70a15b7b-3a5d-49d3-a83b-a31e71b60074"
      },
      "source": [
        "# 補齊資料空值方法\n",
        "\n",
        "資料空值補齊（Data Imputation）是資料分析中常見的處理缺失值技術。以下是常見的補齊方法：\n",
        "\n",
        "## 1. 刪除法（Deletion）\n",
        "- **單一刪除法（Listwise Deletion）**：若某筆資料的任一變數有缺失，則整筆資料會被刪除。適用於資料缺失少且不會造成顯著損失的情況。\n",
        "- **變數刪除法（Pairwise Deletion）**：當計算某一變數之間的相關性時，僅刪除包含缺失值的部分資料，而不是整筆資料。\n",
        "\n",
        "## 2. 均值/中位數/眾數插補（Mean/Median/Mode Imputation）\n",
        "- **均值插補**：對數值型資料，將缺失值用該變數的均值進行替代。適用於數據分佈較為對稱且缺失值較少的情況。\n",
        "- **中位數插補**：對數值型資料，將缺失值用該變數的中位數進行替代。對於具有偏態分佈的資料，使用中位數比均值插補效果較好。\n",
        "- **眾數插補**：對類別型資料，將缺失值用該變數的眾數（最常見的值）進行替代。\n",
        "\n",
        "## 3. 線性回歸插補（Linear Regression Imputation）\n",
        "- 根據其他變數（自變數）來預測缺失變數（因變數）的值，通過回歸分析將缺失的數值填補。例如，可以利用已有資料來訓練回歸模型，然後預測缺失值。\n",
        "\n",
        "## 4. K近鄰插補（K-Nearest Neighbors Imputation, KNN）\n",
        "- 根據缺失資料的相似度（距離度量），用最相似的K個觀測值的平均數或加權平均數來填補缺失值。此方法較為靈活，能夠考慮到資料之間的非線性關係。\n",
        "\n",
        "## 5. 多重插補（Multiple Imputation）\n",
        "- 通過多次插補生成多個缺失值填補結果，並考慮插補過程的不確定性。每次插補後，對模型進行分析，最終匯總結果。這種方法能夠更好地反映缺失值的變異性和不確定性。\n",
        "\n",
        "## 6. 基於模型的插補（Model-based Imputation）\n",
        "- 使用統計模型或機器學習方法（如隨機森林、貝葉斯模型等）進行插補。這些方法能夠根據資料的其他變數來估算缺失值，通常比簡單的均值插補效果更好。\n",
        "\n",
        "## 7. 插補變數（Indicator Variable for Missingness）\n",
        "- 當缺失值的存在本身具有某些含義時，可以創建一個指示變數（指示是否為缺失值），以便模型能夠理解缺失值的模式。\n",
        "\n",
        "## 8. 前後觀測插補（Forward/Backward Fill）\n",
        "- 在時間序列資料中，常用前一個觀測值（前向填補）或下一個觀測值（後向填補）來填補缺失值。這種方法適用於時間序列資料，能夠保持資料的時間順序。\n",
        "\n",
        "## 9. 插值法（Interpolation）\n",
        "- 針對時間序列資料，可以使用線性插值、樣條插值等方法來根據鄰近的數據點推測缺失值。\n"
      ]
    },
    {
      "cell_type": "code",
      "execution_count": null,
      "id": "6dee3d93-50f2-4c52-a910-ef0368aa7bc7",
      "metadata": {
        "id": "6dee3d93-50f2-4c52-a910-ef0368aa7bc7"
      },
      "outputs": [],
      "source": [
        "# 將 Normalized-losses 的空值補上中位數\n",
        "data['Normalized-losses'] = data['Normalized-losses'].fillna(data['Normalized-losses'].median())"
      ]
    },
    {
      "cell_type": "code",
      "execution_count": null,
      "id": "7a2707f8-a7a5-46d6-b128-ec2907a28e60",
      "metadata": {
        "id": "7a2707f8-a7a5-46d6-b128-ec2907a28e60"
      },
      "outputs": [],
      "source": [
        "# Num-of-doors : Label型資料\n",
        "data['Num-of-doors'] = data['Num-of-doors'].value_counts()"
      ]
    },
    {
      "cell_type": "code",
      "execution_count": null,
      "id": "ad212004-0c46-4a7e-9fdc-765520bb48e4",
      "metadata": {
        "id": "ad212004-0c46-4a7e-9fdc-765520bb48e4"
      },
      "outputs": [],
      "source": [
        "data['Num-of-doors'] = data['Num-of-doors'].fillna('four')"
      ]
    },
    {
      "cell_type": "code",
      "execution_count": null,
      "id": "d835d77b-fd3e-474b-b7ec-3031cf487e15",
      "metadata": {
        "id": "d835d77b-fd3e-474b-b7ec-3031cf487e15"
      },
      "outputs": [],
      "source": [
        "# 補 bore, stroke, horsepower, Peak-rpm的空值\n",
        "data['bore'] = data['bore'].fillna(data['bore'].median())\n",
        "data['stroke'] = data['stroke'].fillna(data['stroke'].median())\n",
        "data['horsepower'] = data['horsepower'].fillna(data['horsepower'].median())\n",
        "data['Peak-rpm'] = data['Peak-rpm'].fillna(data['Peak-rpm'].median())"
      ]
    },
    {
      "cell_type": "code",
      "execution_count": null,
      "id": "35dca8f5-8a01-4f2b-a4fc-b274c7668882",
      "metadata": {
        "id": "35dca8f5-8a01-4f2b-a4fc-b274c7668882"
      },
      "outputs": [],
      "source": [
        "# 刪除 price為空值的資料列\n",
        "data = data.dropna(subset=['price'])"
      ]
    },
    {
      "cell_type": "code",
      "execution_count": null,
      "id": "03afa99b-a300-4c02-aadc-2d893decf3a3",
      "metadata": {
        "id": "03afa99b-a300-4c02-aadc-2d893decf3a3",
        "outputId": "3b59694c-27cf-4a79-b04e-e07270c7c092"
      },
      "outputs": [
        {
          "data": {
            "text/plain": [
              "symboling            0\n",
              "Normalized-losses    0\n",
              "make                 0\n",
              "Fuel-type            0\n",
              "aspiration           0\n",
              "Num-of-doors         0\n",
              "Body-style           0\n",
              "Drive-wheels         0\n",
              "Engine-location      0\n",
              "Wheel-base           0\n",
              "length               0\n",
              "width                0\n",
              "height               0\n",
              "Curb-weight          0\n",
              "Engine-type          0\n",
              "Num-of-cylinders     0\n",
              "Engine-size          0\n",
              "Fuel-system          0\n",
              "bore                 0\n",
              "stroke               0\n",
              "Compression-ratio    0\n",
              "horsepower           0\n",
              "Peak-rpm             0\n",
              "City-mpg             0\n",
              "Highway-mpg          0\n",
              "price                0\n",
              "dtype: int64"
            ]
          },
          "execution_count": 9,
          "metadata": {},
          "output_type": "execute_result"
        }
      ],
      "source": [
        "# 再次檢查資料是否有空值\n",
        "data.isnull().sum()"
      ]
    },
    {
      "cell_type": "markdown",
      "id": "2e7e1767-8b55-46cf-aa1a-955538647094",
      "metadata": {
        "id": "2e7e1767-8b55-46cf-aa1a-955538647094"
      },
      "source": [
        "# 資料編碼"
      ]
    },
    {
      "cell_type": "code",
      "execution_count": null,
      "id": "9e5d904d-fccc-4997-befc-8b8d64c8d221",
      "metadata": {
        "id": "9e5d904d-fccc-4997-befc-8b8d64c8d221"
      },
      "outputs": [],
      "source": []
    },
    {
      "cell_type": "code",
      "execution_count": null,
      "id": "f9085683-1fbe-4626-80b4-1235fec0c80c",
      "metadata": {
        "id": "f9085683-1fbe-4626-80b4-1235fec0c80c"
      },
      "outputs": [],
      "source": []
    },
    {
      "cell_type": "markdown",
      "id": "b2d9d29a-8d03-4941-8dd2-20c733fa0a8d",
      "metadata": {
        "id": "b2d9d29a-8d03-4941-8dd2-20c733fa0a8d"
      },
      "source": [
        "# 訓練模型"
      ]
    },
    {
      "cell_type": "code",
      "execution_count": null,
      "id": "82aec1dc-8a38-4977-960d-95c092e9a6c1",
      "metadata": {
        "id": "82aec1dc-8a38-4977-960d-95c092e9a6c1"
      },
      "outputs": [],
      "source": []
    },
    {
      "cell_type": "code",
      "execution_count": null,
      "id": "174c1f89-d58b-4cdd-9092-73f2705935ee",
      "metadata": {
        "id": "174c1f89-d58b-4cdd-9092-73f2705935ee"
      },
      "outputs": [],
      "source": []
    },
    {
      "cell_type": "markdown",
      "id": "d5faf9eb-828a-4d04-8f26-6aa02de3cb8a",
      "metadata": {
        "id": "d5faf9eb-828a-4d04-8f26-6aa02de3cb8a"
      },
      "source": [
        "# 測試與推理"
      ]
    },
    {
      "cell_type": "code",
      "execution_count": null,
      "id": "600c38d7-4fe2-4d38-923e-32cd1d4f4e1b",
      "metadata": {
        "id": "600c38d7-4fe2-4d38-923e-32cd1d4f4e1b"
      },
      "outputs": [],
      "source": []
    },
    {
      "cell_type": "code",
      "execution_count": null,
      "id": "ef0ce865-0b8a-492d-b82c-80e99d08f02f",
      "metadata": {
        "id": "ef0ce865-0b8a-492d-b82c-80e99d08f02f"
      },
      "outputs": [],
      "source": []
    },
    {
      "cell_type": "code",
      "execution_count": null,
      "id": "39176e69-0596-466f-99eb-8f83ca90498b",
      "metadata": {
        "id": "39176e69-0596-466f-99eb-8f83ca90498b"
      },
      "outputs": [],
      "source": []
    },
    {
      "cell_type": "code",
      "execution_count": null,
      "id": "bf0849d2-0367-4430-a2dc-6b64cc5795ac",
      "metadata": {
        "id": "bf0849d2-0367-4430-a2dc-6b64cc5795ac"
      },
      "outputs": [],
      "source": []
    },
    {
      "cell_type": "code",
      "execution_count": null,
      "id": "0fe35730-5043-4934-8615-3b4e805821a4",
      "metadata": {
        "id": "0fe35730-5043-4934-8615-3b4e805821a4"
      },
      "outputs": [],
      "source": []
    },
    {
      "cell_type": "code",
      "execution_count": null,
      "id": "e45cc68e-cff5-4200-9875-ae0b242c0839",
      "metadata": {
        "id": "e45cc68e-cff5-4200-9875-ae0b242c0839"
      },
      "outputs": [],
      "source": []
    }
  ],
  "metadata": {
    "kernelspec": {
      "display_name": "Python 3 (ipykernel)",
      "language": "python",
      "name": "python3"
    },
    "language_info": {
      "codemirror_mode": {
        "name": "ipython",
        "version": 3
      },
      "file_extension": ".py",
      "mimetype": "text/x-python",
      "name": "python",
      "nbconvert_exporter": "python",
      "pygments_lexer": "ipython3",
      "version": "3.12.3"
    },
    "colab": {
      "provenance": [],
      "include_colab_link": true
    }
  },
  "nbformat": 4,
  "nbformat_minor": 5
}